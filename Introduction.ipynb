{
  "nbformat": 4,
  "nbformat_minor": 0,
  "metadata": {
    "colab": {
      "name": "Introduction.ipynb",
      "provenance": [],
      "authorship_tag": "ABX9TyPv5GY3Iix+PXpp5lRRF11n",
      "include_colab_link": true
    },
    "kernelspec": {
      "name": "python3",
      "display_name": "Python 3"
    },
    "language_info": {
      "name": "python"
    }
  },
  "cells": [
    {
      "cell_type": "markdown",
      "metadata": {
        "id": "view-in-github",
        "colab_type": "text"
      },
      "source": [
        "<a href=\"https://colab.research.google.com/github/ThitipongKan/DPDM65/blob/main/Introduction.ipynb\" target=\"_parent\"><img src=\"https://colab.research.google.com/assets/colab-badge.svg\" alt=\"Open In Colab\"/></a>"
      ]
    },
    {
      "cell_type": "code",
      "execution_count": null,
      "metadata": {
        "id": "7F_8eK8Sl_o_"
      },
      "outputs": [],
      "source": [
        ""
      ]
    },
    {
      "cell_type": "markdown",
      "source": [
        "First text in Markdown"
      ],
      "metadata": {
        "id": "2guJM0DwmbDg"
      }
    },
    {
      "cell_type": "markdown",
      "source": [
        "# Heading"
      ],
      "metadata": {
        "id": "njvXqO7bnCHr"
      }
    },
    {
      "cell_type": "code",
      "source": [
        ""
      ],
      "metadata": {
        "id": "kHp7hpgwnMmg"
      },
      "execution_count": null,
      "outputs": []
    },
    {
      "cell_type": "markdown",
      "source": [
        "## heading2"
      ],
      "metadata": {
        "id": "Bs0-vv7xnY_B"
      }
    },
    {
      "cell_type": "code",
      "source": [
        "print(\"Thitipong\")"
      ],
      "metadata": {
        "colab": {
          "base_uri": "https://localhost:8080/"
        },
        "id": "qNPRh2oUneRz",
        "outputId": "cd1cd112-0471-4157-954e-3bd4ec7c10bd"
      },
      "execution_count": 1,
      "outputs": [
        {
          "output_type": "stream",
          "name": "stdout",
          "text": [
            "Thitipong\n"
          ]
        }
      ]
    },
    {
      "cell_type": "code",
      "source": [
        "print('Kanchai')"
      ],
      "metadata": {
        "colab": {
          "base_uri": "https://localhost:8080/"
        },
        "id": "bIPXJd39ofxx",
        "outputId": "4eb47597-35f3-4895-f3a2-0ea7ae6fdcbb"
      },
      "execution_count": 2,
      "outputs": [
        {
          "output_type": "stream",
          "name": "stdout",
          "text": [
            "Kanchai\n"
          ]
        }
      ]
    },
    {
      "cell_type": "code",
      "source": [
        ""
      ],
      "metadata": {
        "id": "Ije02kKco2h5"
      },
      "execution_count": null,
      "outputs": []
    },
    {
      "cell_type": "code",
      "source": [
        "a =1 + 2"
      ],
      "metadata": {
        "id": "dH74oHoWpF6H"
      },
      "execution_count": 3,
      "outputs": []
    },
    {
      "cell_type": "code",
      "source": [
        "print(a)"
      ],
      "metadata": {
        "colab": {
          "base_uri": "https://localhost:8080/"
        },
        "id": "yVWJFGE9pKil",
        "outputId": "0d861ce4-76e5-4c73-de28-037bfb24b95c"
      },
      "execution_count": 4,
      "outputs": [
        {
          "output_type": "stream",
          "name": "stdout",
          "text": [
            "3\n"
          ]
        }
      ]
    },
    {
      "cell_type": "code",
      "source": [
        ""
      ],
      "metadata": {
        "id": "uE48g867pNbr"
      },
      "execution_count": null,
      "outputs": []
    }
  ]
}