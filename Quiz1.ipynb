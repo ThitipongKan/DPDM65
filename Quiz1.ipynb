{
  "nbformat": 4,
  "nbformat_minor": 0,
  "metadata": {
    "colab": {
      "name": "Quiz1.ipynb",
      "provenance": [],
      "authorship_tag": "ABX9TyPzYwuDLXjyB9+amF77x08G",
      "include_colab_link": true
    },
    "kernelspec": {
      "name": "python3",
      "display_name": "Python 3"
    },
    "language_info": {
      "name": "python"
    }
  },
  "cells": [
    {
      "cell_type": "markdown",
      "metadata": {
        "id": "view-in-github",
        "colab_type": "text"
      },
      "source": [
        "<a href=\"https://colab.research.google.com/github/ThitipongKan/DPDM65/blob/main/Quiz1.ipynb\" target=\"_parent\"><img src=\"https://colab.research.google.com/assets/colab-badge.svg\" alt=\"Open In Colab\"/></a>"
      ]
    },
    {
      "cell_type": "code",
      "source": [
        ""
      ],
      "metadata": {
        "id": "vTONt3U4b_dV"
      },
      "execution_count": null,
      "outputs": []
    },
    {
      "cell_type": "code",
      "execution_count": null,
      "metadata": {
        "colab": {
          "base_uri": "https://localhost:8080/",
          "height": 236
        },
        "id": "5HKH8RlEWVBE",
        "outputId": "e321d42e-21aa-4175-c21e-2a1312d6f8bd"
      },
      "outputs": [
        {
          "output_type": "error",
          "ename": "AttributeError",
          "evalue": "ignored",
          "traceback": [
            "\u001b[0;31m---------------------------------------------------------------------------\u001b[0m",
            "\u001b[0;31mAttributeError\u001b[0m                            Traceback (most recent call last)",
            "\u001b[0;32m<ipython-input-32-5a0617efda9a>\u001b[0m in \u001b[0;36m<module>\u001b[0;34m()\u001b[0m\n\u001b[1;32m     18\u001b[0m \u001b[0;32melse\u001b[0m\u001b[0;34m:\u001b[0m\u001b[0;34m\u001b[0m\u001b[0;34m\u001b[0m\u001b[0m\n\u001b[1;32m     19\u001b[0m              \u001b[0mdiff\u001b[0m \u001b[0;34m=\u001b[0m \u001b[0mend\u001b[0m \u001b[0;34m-\u001b[0m \u001b[0mstart\u001b[0m\u001b[0;34m\u001b[0m\u001b[0;34m\u001b[0m\u001b[0m\n\u001b[0;32m---> 20\u001b[0;31m \u001b[0mtotal_seconds\u001b[0m \u001b[0;34m=\u001b[0m \u001b[0mdiff\u001b[0m\u001b[0;34m.\u001b[0m\u001b[0mtotal_seconds\u001b[0m\u001b[0;34m(\u001b[0m\u001b[0;34m)\u001b[0m\u001b[0;34m\u001b[0m\u001b[0;34m\u001b[0m\u001b[0m\n\u001b[0m\u001b[1;32m     21\u001b[0m \u001b[0;34m\u001b[0m\u001b[0m\n\u001b[1;32m     22\u001b[0m \u001b[0mprint\u001b[0m\u001b[0;34m(\u001b[0m\u001b[0;34m\"Time used to finish the test is %d seconds\"\u001b[0m \u001b[0;34m%\u001b[0m \u001b[0mtotal_seconds\u001b[0m\u001b[0;34m)\u001b[0m\u001b[0;34m\u001b[0m\u001b[0;34m\u001b[0m\u001b[0m\n",
            "\u001b[0;31mAttributeError\u001b[0m: 'int' object has no attribute 'total_seconds'"
          ]
        }
      ],
      "source": [
        "#time_difference\n",
        "\n",
        "list_start = [x,y,z]\n",
        "list_end = [a,b,c]\n",
        "# Test started\n",
        "start = 3600*x+60*y+z\n",
        "# Test ended\n",
        "end = 3600*a+60*b+c\n",
        "\n",
        "# Result is a timedelta object\n",
        "if start > end:\n",
        "            diff =  start-end\n",
        "else: \n",
        "             diff = end - start\n",
        "total_seconds = diff.total_seconds()\n",
        "\n",
        "print(\"Time used to finish the test is %d seconds\" % total_seconds)\n",
        "\n"
      ]
    },
    {
      "cell_type": "code",
      "source": [
        ""
      ],
      "metadata": {
        "id": "ztmnQ6wqkvxw"
      },
      "execution_count": null,
      "outputs": []
    },
    {
      "cell_type": "code",
      "source": [
        "time = '18:04:11 - 00:00:00'\n",
        "\n",
        "T = time.split('-')\n",
        "Tstart = T[0]\n",
        "Tend = T[-1]\n",
        "SplitS = Tstart.split(':')\n",
        "Sstart = 3600*int(SplitS[0])+60*int(SplitS[1])+int(SplitS[2])\n",
        "\n",
        "SplitE = Tend.split(':')\n",
        "Send = 3600*int(SplitE[0])+60*int(SplitE[1])+int(SplitE[2])\n",
        "\n",
        "if Send<Sstart:\n",
        "     print(f'ช่วงระยะเวลาระหว่าง {Tstart} ถึง {Tend} มีเวลาทั้งหมด {(Send+(24*3600)) - Sstart} วินาที')\n",
        "else:\n",
        "     print(f'ช่วงระยะเวลาระหว่าง {Tstart} ถึง {Tend} มีเวลาทั้งหมด {Send - Sstart} วินาที')\n"
      ],
      "metadata": {
        "colab": {
          "base_uri": "https://localhost:8080/"
        },
        "id": "Wlk9PlOjtWoD",
        "outputId": "7f31ad54-7540-49f3-a5f1-ca0a9be62c22"
      },
      "execution_count": null,
      "outputs": [
        {
          "output_type": "stream",
          "name": "stdout",
          "text": [
            "ช่วงระยะเวลาระหว่าง 18:04:11  ถึง  00:00:00 มีเวลาทั้งหมด 21349 วินาที\n"
          ]
        }
      ]
    },
    {
      "cell_type": "code",
      "source": [
        "def cal_time(time):\n",
        "T = time.split('-')\n",
        "Tstart = T[0]\n",
        "Tend = T[-1]\n",
        "SplitS = Tstart.split(':')\n",
        "Sstart = 3600*int(SplitS[0])+60*int(SplitS[1])+int(SplitS[2])\n",
        "\n",
        "SplitE = Tend.split(':')\n",
        "Send = 3600*int(SplitE[0])+60*int(SplitE[1])+int(SplitE[2])\n",
        "\n",
        "if Send<Sstart:\n",
        "     return(f'ช่วงระยะเวลาระหว่าง {Tstart} ถึง {Tend} มีเวลาทั้งหมด {(Send+(24*3600)) - Sstart} วินาที')\n",
        "else:\n",
        "     return(f'ช่วงระยะเวลาระหว่าง {Tstart} ถึง {Tend} มีเวลาทั้งหมด {Send - Sstart} วินาที')\n",
        "cal_time('18:04:11 - 00:00:00')"
      ],
      "metadata": {
        "id": "V5f60L7ev-Wi"
      },
      "execution_count": null,
      "outputs": []
    },
    {
      "cell_type": "code",
      "source": [
        ""
      ],
      "metadata": {
        "id": "xK-NCrkrvbjM"
      },
      "execution_count": null,
      "outputs": []
    }
  ]
}