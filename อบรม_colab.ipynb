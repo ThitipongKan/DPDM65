{
  "nbformat": 4,
  "nbformat_minor": 0,
  "metadata": {
    "colab": {
      "name": "อบรม colab.ipynb",
      "provenance": [],
      "authorship_tag": "ABX9TyM1d1b0XB33Ig9qRYmtexDc",
      "include_colab_link": true
    },
    "kernelspec": {
      "name": "python3",
      "display_name": "Python 3"
    },
    "language_info": {
      "name": "python"
    }
  },
  "cells": [
    {
      "cell_type": "markdown",
      "metadata": {
        "id": "view-in-github",
        "colab_type": "text"
      },
      "source": [
        "<a href=\"https://colab.research.google.com/github/ThitipongKan/DPDM65/blob/main/%E0%B8%AD%E0%B8%9A%E0%B8%A3%E0%B8%A1_colab.ipynb\" target=\"_parent\"><img src=\"https://colab.research.google.com/assets/colab-badge.svg\" alt=\"Open In Colab\"/></a>"
      ]
    },
    {
      "cell_type": "code",
      "execution_count": 1,
      "metadata": {
        "colab": {
          "base_uri": "https://localhost:8080/"
        },
        "id": "bvBtmB2f7nCH",
        "outputId": "49286ae0-cb75-49db-89c1-ec4a7a09284f"
      },
      "outputs": [
        {
          "output_type": "stream",
          "name": "stdout",
          "text": [
            "ความรัก\n"
          ]
        }
      ],
      "source": [
        "print(\"ความรัก\")"
      ]
    },
    {
      "cell_type": "code",
      "source": [
        "print(\"สวัสดี ขอนแก่น\")"
      ],
      "metadata": {
        "colab": {
          "base_uri": "https://localhost:8080/"
        },
        "id": "CGT4y1z-7um-",
        "outputId": "0c71f1aa-63f3-4dc0-8e14-d56355540ab0"
      },
      "execution_count": 2,
      "outputs": [
        {
          "output_type": "stream",
          "name": "stdout",
          "text": [
            "สวัสดี ขอนแก่น\n"
          ]
        }
      ]
    },
    {
      "cell_type": "code",
      "source": [
        "age = 28"
      ],
      "metadata": {
        "id": "YqvMPICu8OmV"
      },
      "execution_count": 3,
      "outputs": []
    },
    {
      "cell_type": "code",
      "source": [
        "print(age)"
      ],
      "metadata": {
        "colab": {
          "base_uri": "https://localhost:8080/"
        },
        "id": "3jYzGTGZ8gE0",
        "outputId": "e534d06d-9118-4d17-807b-ac4950acacdc"
      },
      "execution_count": 9,
      "outputs": [
        {
          "output_type": "stream",
          "name": "stdout",
          "text": [
            "28\n"
          ]
        }
      ]
    },
    {
      "cell_type": "code",
      "source": [
        "age = 28\n",
        "age"
      ],
      "metadata": {
        "colab": {
          "base_uri": "https://localhost:8080/"
        },
        "id": "kj58E_oM81Mp",
        "outputId": "2b372530-e1c3-42d4-a63f-7a53f07b0f1f"
      },
      "execution_count": 10,
      "outputs": [
        {
          "output_type": "execute_result",
          "data": {
            "text/plain": [
              "28"
            ]
          },
          "metadata": {},
          "execution_count": 10
        }
      ]
    },
    {
      "cell_type": "code",
      "source": [
        "age =28\n",
        "name = \"Thitipong\"\n",
        "surname = \"Kanchai\"\n",
        "height = 1.80\n"
      ],
      "metadata": {
        "id": "LORI_QMY8ibz"
      },
      "execution_count": 12,
      "outputs": []
    },
    {
      "cell_type": "code",
      "source": [
        "name + \" \" +surname"
      ],
      "metadata": {
        "colab": {
          "base_uri": "https://localhost:8080/",
          "height": 35
        },
        "id": "lqQXbVHf9WFX",
        "outputId": "851e26d4-ec06-4fc8-9032-475d79e0804b"
      },
      "execution_count": 14,
      "outputs": [
        {
          "output_type": "execute_result",
          "data": {
            "text/plain": [
              "'Thitipong Kanchai'"
            ],
            "application/vnd.google.colaboratory.intrinsic+json": {
              "type": "string"
            }
          },
          "metadata": {},
          "execution_count": 14
        }
      ]
    },
    {
      "cell_type": "code",
      "source": [
        "name = input(\"What is your name?\")\n",
        "print(\"Hello, %s\" % name)"
      ],
      "metadata": {
        "colab": {
          "base_uri": "https://localhost:8080/"
        },
        "id": "6bxXMFW9_iTV",
        "outputId": "5776ccce-46e6-4818-b156-e6e26ee07087"
      },
      "execution_count": 15,
      "outputs": [
        {
          "output_type": "stream",
          "name": "stdout",
          "text": [
            "What is your name?Thitipong\n",
            "Hello, Thitipong\n"
          ]
        }
      ]
    },
    {
      "cell_type": "markdown",
      "source": [
        "# String คือ ข้อความ\n"
      ],
      "metadata": {
        "id": "eMMmOl-WBvTp"
      }
    },
    {
      "cell_type": "markdown",
      "source": [
        "## int(ตัวแปร) -->\n",
        "แปลงข้อความให้เป็นจำนวนเต็ม"
      ],
      "metadata": {
        "id": "9JUoBJebB26b"
      }
    },
    {
      "cell_type": "code",
      "source": [
        "name = input(\"What is your name?\")\n",
        "y = input(\"Enter your year\")\n",
        "age = 2565 - int(y)\n",
        "print(\"Hello, %s\" % name)\n",
        "print(\"age: %s\" % age)"
      ],
      "metadata": {
        "colab": {
          "base_uri": "https://localhost:8080/"
        },
        "id": "oWdh5YIDAjSp",
        "outputId": "db619bcb-bfe2-454f-839e-b76e04b0223d"
      },
      "execution_count": 20,
      "outputs": [
        {
          "output_type": "stream",
          "name": "stdout",
          "text": [
            "What is your name?TH\n",
            "Enter your year2537\n",
            "Hello, TH\n",
            "age: 28\n"
          ]
        }
      ]
    },
    {
      "cell_type": "markdown",
      "source": [
        "int() : integer จำนวนเต็ม\n",
        "float() : floating-point number ตัวเลขทศนิยม\n",
        "str() : strings สายอักษร\n",
        "ิbool() : True, false"
      ],
      "metadata": {
        "id": "yZgqzY7ADX35"
      }
    },
    {
      "cell_type": "code",
      "source": [
        "x = input(\"x: \")\n",
        "y = input(\"y: \")\n",
        "sum = float(x) + float(y)\n",
        "print(\"sum: %f\" % sum)"
      ],
      "metadata": {
        "colab": {
          "base_uri": "https://localhost:8080/"
        },
        "id": "2z6YPMNdBSLH",
        "outputId": "95de2cb4-54af-4d06-a109-073edbde9eb1"
      },
      "execution_count": 21,
      "outputs": [
        {
          "output_type": "stream",
          "name": "stdout",
          "text": [
            "x: 20\n",
            "y: 30\n",
            "sum: 50.000000\n"
          ]
        }
      ]
    },
    {
      "cell_type": "markdown",
      "source": [
        "# Math operation"
      ],
      "metadata": {
        "id": "-gTf6ziMG5rQ"
      }
    },
    {
      "cell_type": "code",
      "source": [
        "10*3"
      ],
      "metadata": {
        "colab": {
          "base_uri": "https://localhost:8080/"
        },
        "id": "gizIqmaOG8Nr",
        "outputId": "927f74da-d7a2-4142-f5c8-af563a2d0d0c"
      },
      "execution_count": 22,
      "outputs": [
        {
          "output_type": "execute_result",
          "data": {
            "text/plain": [
              "30"
            ]
          },
          "metadata": {},
          "execution_count": 22
        }
      ]
    },
    {
      "cell_type": "code",
      "source": [
        "1000/88"
      ],
      "metadata": {
        "colab": {
          "base_uri": "https://localhost:8080/"
        },
        "id": "HxZjJE_UHBuD",
        "outputId": "26624fee-f53c-4f33-d6ba-7f44c8cb9c1c"
      },
      "execution_count": 23,
      "outputs": [
        {
          "output_type": "execute_result",
          "data": {
            "text/plain": [
              "11.363636363636363"
            ]
          },
          "metadata": {},
          "execution_count": 23
        }
      ]
    },
    {
      "cell_type": "code",
      "source": [
        "10**5"
      ],
      "metadata": {
        "colab": {
          "base_uri": "https://localhost:8080/"
        },
        "id": "5tJRoyZeHFoI",
        "outputId": "a51d837e-5c02-431f-d124-4beb51b8e16c"
      },
      "execution_count": 25,
      "outputs": [
        {
          "output_type": "execute_result",
          "data": {
            "text/plain": [
              "100000"
            ]
          },
          "metadata": {},
          "execution_count": 25
        }
      ]
    },
    {
      "cell_type": "code",
      "source": [
        "10 % 3"
      ],
      "metadata": {
        "colab": {
          "base_uri": "https://localhost:8080/"
        },
        "id": "fLLhgXIyHgho",
        "outputId": "9af292e4-bada-43c2-f7da-22dbaca8b5a0"
      },
      "execution_count": 26,
      "outputs": [
        {
          "output_type": "execute_result",
          "data": {
            "text/plain": [
              "1"
            ]
          },
          "metadata": {},
          "execution_count": 26
        }
      ]
    },
    {
      "cell_type": "code",
      "source": [
        "47 % 11"
      ],
      "metadata": {
        "colab": {
          "base_uri": "https://localhost:8080/"
        },
        "id": "c1I-Gba4Hmo_",
        "outputId": "845c8fc7-f33c-49b3-ff70-4295feaa1713"
      },
      "execution_count": 27,
      "outputs": [
        {
          "output_type": "execute_result",
          "data": {
            "text/plain": [
              "3"
            ]
          },
          "metadata": {},
          "execution_count": 27
        }
      ]
    },
    {
      "cell_type": "code",
      "source": [
        "25 **(1/2)"
      ],
      "metadata": {
        "colab": {
          "base_uri": "https://localhost:8080/"
        },
        "id": "AUU_LfF8HxKk",
        "outputId": "03c36ada-4ea9-4123-dd00-8d98c2cb578a"
      },
      "execution_count": 28,
      "outputs": [
        {
          "output_type": "execute_result",
          "data": {
            "text/plain": [
              "5.0"
            ]
          },
          "metadata": {},
          "execution_count": 28
        }
      ]
    },
    {
      "cell_type": "code",
      "source": [
        "8 ** (1/3)"
      ],
      "metadata": {
        "colab": {
          "base_uri": "https://localhost:8080/"
        },
        "id": "47loKGmwH89X",
        "outputId": "543f1536-0ac4-4213-efe2-66e4391792e7"
      },
      "execution_count": 29,
      "outputs": [
        {
          "output_type": "execute_result",
          "data": {
            "text/plain": [
              "2.0"
            ]
          },
          "metadata": {},
          "execution_count": 29
        }
      ]
    },
    {
      "cell_type": "code",
      "source": [
        "10+3*2"
      ],
      "metadata": {
        "colab": {
          "base_uri": "https://localhost:8080/"
        },
        "id": "A4jfq7nRIFC1",
        "outputId": "6b4e6988-407c-44c4-a57e-5e104e1e434e"
      },
      "execution_count": 30,
      "outputs": [
        {
          "output_type": "execute_result",
          "data": {
            "text/plain": [
              "16"
            ]
          },
          "metadata": {},
          "execution_count": 30
        }
      ]
    },
    {
      "cell_type": "markdown",
      "source": [
        "# 4+ 6*2- 8/2"
      ],
      "metadata": {
        "id": "sel3ZojWIonU"
      }
    },
    {
      "cell_type": "code",
      "source": [
        "4+6*2-8/2"
      ],
      "metadata": {
        "colab": {
          "base_uri": "https://localhost:8080/"
        },
        "id": "FAd5EYoPIUIW",
        "outputId": "1e558c2f-d809-4b92-edbf-bb695c332e67"
      },
      "execution_count": 31,
      "outputs": [
        {
          "output_type": "execute_result",
          "data": {
            "text/plain": [
              "12.0"
            ]
          },
          "metadata": {},
          "execution_count": 31
        }
      ]
    },
    {
      "cell_type": "markdown",
      "source": [
        "#Logic"
      ],
      "metadata": {
        "id": "tVmHPZNhJCxa"
      }
    },
    {
      "cell_type": "code",
      "source": [
        "3 > 2"
      ],
      "metadata": {
        "colab": {
          "base_uri": "https://localhost:8080/"
        },
        "id": "S-Cp3oKAJBmN",
        "outputId": "3387578f-3a97-40de-a412-7819a8899359"
      },
      "execution_count": 32,
      "outputs": [
        {
          "output_type": "execute_result",
          "data": {
            "text/plain": [
              "True"
            ]
          },
          "metadata": {},
          "execution_count": 32
        }
      ]
    },
    {
      "cell_type": "code",
      "source": [
        "3<2"
      ],
      "metadata": {
        "colab": {
          "base_uri": "https://localhost:8080/"
        },
        "id": "ZhFPolB3JaSI",
        "outputId": "f2a82cd8-adcb-4984-8b15-981f82df5546"
      },
      "execution_count": 33,
      "outputs": [
        {
          "output_type": "execute_result",
          "data": {
            "text/plain": [
              "False"
            ]
          },
          "metadata": {},
          "execution_count": 33
        }
      ]
    },
    {
      "cell_type": "code",
      "source": [
        "3 == 2"
      ],
      "metadata": {
        "colab": {
          "base_uri": "https://localhost:8080/"
        },
        "id": "hfNm2EiMJiZe",
        "outputId": "f8a639ac-15c0-4a7b-dcf9-8c879e62b4cb"
      },
      "execution_count": 34,
      "outputs": [
        {
          "output_type": "execute_result",
          "data": {
            "text/plain": [
              "False"
            ]
          },
          "metadata": {},
          "execution_count": 34
        }
      ]
    },
    {
      "cell_type": "code",
      "source": [
        "3!=2"
      ],
      "metadata": {
        "colab": {
          "base_uri": "https://localhost:8080/"
        },
        "id": "B4vW7nzpJlbq",
        "outputId": "c141ce19-d402-4b08-e77b-9a8b1b38cf30"
      },
      "execution_count": 35,
      "outputs": [
        {
          "output_type": "execute_result",
          "data": {
            "text/plain": [
              "True"
            ]
          },
          "metadata": {},
          "execution_count": 35
        }
      ]
    },
    {
      "cell_type": "code",
      "source": [
        "p = False\n",
        "q = True\n",
        "\n",
        "p and q"
      ],
      "metadata": {
        "colab": {
          "base_uri": "https://localhost:8080/"
        },
        "id": "JjAccaLFKCsV",
        "outputId": "c51a13f6-ffb5-41bb-ed36-3a4987ad1414"
      },
      "execution_count": 36,
      "outputs": [
        {
          "output_type": "execute_result",
          "data": {
            "text/plain": [
              "False"
            ]
          },
          "metadata": {},
          "execution_count": 36
        }
      ]
    },
    {
      "cell_type": "code",
      "source": [
        "p = False\n",
        "q = True\n",
        "\n",
        "p or q"
      ],
      "metadata": {
        "colab": {
          "base_uri": "https://localhost:8080/"
        },
        "id": "YOgEvr5yKZ7z",
        "outputId": "b64bbef6-fecb-4d56-9ca4-85b78169851c"
      },
      "execution_count": 37,
      "outputs": [
        {
          "output_type": "execute_result",
          "data": {
            "text/plain": [
              "True"
            ]
          },
          "metadata": {},
          "execution_count": 37
        }
      ]
    },
    {
      "cell_type": "markdown",
      "source": [
        "p --> q = ~p V q"
      ],
      "metadata": {
        "id": "pZAlfawHKn-6"
      }
    },
    {
      "cell_type": "code",
      "source": [
        "p = False\n",
        "q = True\n",
        "\n",
        "not p or q"
      ],
      "metadata": {
        "colab": {
          "base_uri": "https://localhost:8080/"
        },
        "id": "HbcEkBuAKibv",
        "outputId": "fac409a8-6491-4b81-8ab4-e4ca6353f372"
      },
      "execution_count": 38,
      "outputs": [
        {
          "output_type": "execute_result",
          "data": {
            "text/plain": [
              "True"
            ]
          },
          "metadata": {},
          "execution_count": 38
        }
      ]
    },
    {
      "cell_type": "code",
      "source": [
        "p = False\n",
        "q = True\n",
        "\n",
        "(not p or q) and (not q or p)"
      ],
      "metadata": {
        "colab": {
          "base_uri": "https://localhost:8080/"
        },
        "id": "2GeUEVOzM36Q",
        "outputId": "e63f8b45-0b39-42da-9ea9-217a80a4d530"
      },
      "execution_count": 40,
      "outputs": [
        {
          "output_type": "execute_result",
          "data": {
            "text/plain": [
              "False"
            ]
          },
          "metadata": {},
          "execution_count": 40
        }
      ]
    },
    {
      "cell_type": "markdown",
      "source": [
        "# if"
      ],
      "metadata": {
        "id": "dOJ9Na9yNO0p"
      }
    },
    {
      "cell_type": "code",
      "source": [
        "w = \n",
        "h = 1.8\n",
        "BMI = w/(h**2)\n",
        "if BMI < 18.5:\n",
        "    print(\"น้ำหนักต่ำกว่าเกณฑ์\")\n",
        "elif 18.5 < BMI< 22.9:\n",
        "        print(\"สมส่วน\")\n",
        "elif BMI > 22.9 and BMI <29.9:\n",
        "    print(\"น้ำหนักเกิน\")\n"
      ],
      "metadata": {
        "colab": {
          "base_uri": "https://localhost:8080/"
        },
        "id": "RSKuVr5INL4c",
        "outputId": "93f75306-635c-4bfe-b3ca-19a0a461a12f"
      },
      "execution_count": 49,
      "outputs": [
        {
          "output_type": "stream",
          "name": "stdout",
          "text": [
            "สมส่วน\n"
          ]
        }
      ]
    },
    {
      "cell_type": "markdown",
      "source": [
        "# While loop"
      ],
      "metadata": {
        "id": "1Q4Y1WWiRrKI"
      }
    },
    {
      "cell_type": "code",
      "source": [
        "i = 1 \n",
        "while i <= 20: \n",
        "    print(i)\n",
        "    i = i + 1\n",
        "    "
      ],
      "metadata": {
        "colab": {
          "base_uri": "https://localhost:8080/"
        },
        "id": "zgojIMa8RplJ",
        "outputId": "a9051578-4a8f-4afc-e786-39d1bebc77b1"
      },
      "execution_count": 51,
      "outputs": [
        {
          "output_type": "stream",
          "name": "stdout",
          "text": [
            "1\n",
            "2\n",
            "3\n",
            "4\n",
            "5\n",
            "6\n",
            "7\n",
            "8\n",
            "9\n",
            "10\n",
            "11\n",
            "12\n",
            "13\n",
            "14\n",
            "15\n",
            "16\n",
            "17\n",
            "18\n",
            "19\n",
            "20\n"
          ]
        }
      ]
    }
  ]
}